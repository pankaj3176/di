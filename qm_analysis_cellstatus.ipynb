{
 "cells": [
  {
   "cell_type": "markdown",
   "metadata": {},
   "source": [
    "# Quality Analysis of Cell Data"
   ]
  },
  {
   "cell_type": "code",
   "execution_count": 2,
   "metadata": {},
   "outputs": [
    {
     "name": "stdout",
     "output_type": "stream",
     "text": [
      "Requirement already satisfied: hana_ml in /opt/conda/lib/python3.7/site-packages (2.5.20062605)\n",
      "Requirement already satisfied: matplotlib; python_version >= \"3\" in /opt/conda/lib/python3.7/site-packages (from hana_ml) (3.3.3)\n",
      "Requirement already satisfied: hdbcli>=2.4.194 in /opt/conda/lib/python3.7/site-packages (from hana_ml) (2.4.194)\n",
      "Requirement already satisfied: pandas>=0.24.2; python_version >= \"3.4\" in /opt/conda/lib/python3.7/site-packages (from hana_ml) (1.1.4)\n",
      "Requirement already satisfied: pydot in /opt/conda/lib/python3.7/site-packages (from hana_ml) (1.4.1)\n",
      "Requirement already satisfied: Deprecated in /opt/conda/lib/python3.7/site-packages (from hana_ml) (1.2.10)\n",
      "Requirement already satisfied: numpy>=1.16.4; python_version >= \"3\" in /opt/conda/lib/python3.7/site-packages (from hana_ml) (1.19.4)\n",
      "Requirement already satisfied: uuid in /opt/conda/lib/python3.7/site-packages (from hana_ml) (1.30)\n",
      "Requirement already satisfied: pillow>=6.2.0 in /opt/conda/lib/python3.7/site-packages (from matplotlib; python_version >= \"3\"->hana_ml) (8.0.1)\n",
      "Requirement already satisfied: kiwisolver>=1.0.1 in /opt/conda/lib/python3.7/site-packages (from matplotlib; python_version >= \"3\"->hana_ml) (1.3.1)\n",
      "Requirement already satisfied: python-dateutil>=2.1 in /opt/conda/lib/python3.7/site-packages (from matplotlib; python_version >= \"3\"->hana_ml) (2.8.1)\n",
      "Requirement already satisfied: pyparsing!=2.0.4,!=2.1.2,!=2.1.6,>=2.0.3 in /opt/conda/lib/python3.7/site-packages (from matplotlib; python_version >= \"3\"->hana_ml) (2.4.7)\n",
      "Requirement already satisfied: cycler>=0.10 in /opt/conda/lib/python3.7/site-packages (from matplotlib; python_version >= \"3\"->hana_ml) (0.10.0)\n",
      "Requirement already satisfied: pytz>=2017.2 in /opt/conda/lib/python3.7/site-packages (from pandas>=0.24.2; python_version >= \"3.4\"->hana_ml) (2020.4)\n",
      "Requirement already satisfied: wrapt<2,>=1.10 in /opt/conda/lib/python3.7/site-packages (from Deprecated->hana_ml) (1.12.1)\n",
      "Requirement already satisfied: six>=1.5 in /opt/conda/lib/python3.7/site-packages (from python-dateutil>=2.1->matplotlib; python_version >= \"3\"->hana_ml) (1.11.0)\n",
      "Requirement already satisfied: hdfs in /opt/conda/lib/python3.7/site-packages (2.5.0)\n",
      "Requirement already satisfied: docopt in /opt/conda/lib/python3.7/site-packages (from hdfs) (0.6.2)\n",
      "Requirement already satisfied: six>=1.9.0 in /opt/conda/lib/python3.7/site-packages (from hdfs) (1.11.0)\n",
      "Requirement already satisfied: requests>=2.7.0 in /opt/conda/lib/python3.7/site-packages (from hdfs) (2.23.0)\n",
      "Requirement already satisfied: idna<3,>=2.5 in /opt/conda/lib/python3.7/site-packages (from requests>=2.7.0->hdfs) (2.8)\n",
      "Requirement already satisfied: certifi>=2017.4.17 in /opt/conda/lib/python3.7/site-packages (from requests>=2.7.0->hdfs) (2020.11.8)\n",
      "Requirement already satisfied: chardet<4,>=3.0.2 in /opt/conda/lib/python3.7/site-packages (from requests>=2.7.0->hdfs) (3.0.4)\n",
      "Requirement already satisfied: urllib3!=1.25.0,!=1.25.1,<1.26,>=1.21.1 in /opt/conda/lib/python3.7/site-packages (from requests>=2.7.0->hdfs) (1.24.3)\n"
     ]
    }
   ],
   "source": [
    "!pip install hana_ml\n",
    "!pip install hdfs"
   ]
  },
  {
   "cell_type": "code",
   "execution_count": 3,
   "metadata": {},
   "outputs": [],
   "source": [
    "import hana_ml\n",
    "import hana_ml.dataframe as dataframe\n",
    "from notebook_hana_connector.notebook_hana_connector import NotebookConnectionContext\n",
    "from hdfs import InsecureClient\n",
    "\n",
    "import pandas as pd\n",
    "import matplotlib.pyplot as plt"
   ]
  },
  {
   "cell_type": "markdown",
   "metadata": {},
   "source": [
    "## Connection to Data Source"
   ]
  },
  {
   "cell_type": "code",
   "execution_count": 4,
   "metadata": {},
   "outputs": [
    {
     "data": {
      "text/html": [
       "<div>\n",
       "<style scoped>\n",
       "    .dataframe tbody tr th:only-of-type {\n",
       "        vertical-align: middle;\n",
       "    }\n",
       "\n",
       "    .dataframe tbody tr th {\n",
       "        vertical-align: top;\n",
       "    }\n",
       "\n",
       "    .dataframe thead th {\n",
       "        text-align: right;\n",
       "    }\n",
       "</style>\n",
       "<table border=\"1\" class=\"dataframe\">\n",
       "  <thead>\n",
       "    <tr style=\"text-align: right;\">\n",
       "      <th></th>\n",
       "      <th>DATE</th>\n",
       "      <th>CELLID</th>\n",
       "      <th>KEY1</th>\n",
       "      <th>KEY2</th>\n",
       "      <th>NOM_KEY1</th>\n",
       "      <th>NOM_KEY2</th>\n",
       "    </tr>\n",
       "  </thead>\n",
       "  <tbody>\n",
       "    <tr>\n",
       "      <th>0</th>\n",
       "      <td>2020-11-01</td>\n",
       "      <td>1234512</td>\n",
       "      <td>94.528366</td>\n",
       "      <td>183.496887</td>\n",
       "      <td>0.0</td>\n",
       "      <td>0.0</td>\n",
       "    </tr>\n",
       "  </tbody>\n",
       "</table>\n",
       "</div>"
      ],
      "text/plain": [
       "         DATE   CELLID       KEY1        KEY2  NOM_KEY1  NOM_KEY2\n",
       "0  2020-11-01  1234512  94.528366  183.496887       0.0       0.0"
      ]
     },
     "metadata": {},
     "output_type": "display_data"
    }
   ],
   "source": [
    "#FOR HANA ML\n",
    "conn = NotebookConnectionContext(connectionId = 'HANA_CCLOUD')\n",
    "df = conn.table('SHA_CELLSTATUS', schema='SAPIT').collect()\n",
    "display(df)"
   ]
  },
  {
   "cell_type": "markdown",
   "metadata": {},
   "source": [
    "## Configuration Setting and Performance over Time"
   ]
  },
  {
   "cell_type": "code",
   "execution_count": 5,
   "metadata": {},
   "outputs": [
    {
     "data": {
      "text/plain": [
       "[Text(0.5, 0, 'DATE'), Text(0, 0.5, 'KEY2')]"
      ]
     },
     "execution_count": 5,
     "metadata": {},
     "output_type": "execute_result"
    },
    {
     "data": {
      "image/png": "[encoded data removed]",
      "text/plain": [
       "<Figure size 1440x360 with 2 Axes>"
      ]
     },
     "metadata": {
      "needs_background": "light"
     },
     "output_type": "display_data"
    }
   ],
   "source": [
    "fig, (ax1, ax2) = plt.subplots(1, 2,figsize=(20, 5))\n",
    "fig.autofmt_xdate(rotation=45)\n",
    "#fig.tight_layout()\n",
    "\n",
    "fig.suptitle('CELLSTATUS')\n",
    "ax1.plot(df['DATE'],df['KEY1'])\n",
    "ax1.plot(df['DATE'],df['NOM_KEY1'],color='red')\n",
    "ax1.set(xlabel='DATE', ylabel='KEY1')\n",
    "ax2.plot(df['DATE'],df['KEY2'])\n",
    "ax2.plot(df['DATE'],df['NOM_KEY2'],color='red')\n",
    "ax2.set(xlabel='DATE', ylabel='KEY2')"
   ]
  },
  {
   "cell_type": "markdown",
   "metadata": {},
   "source": [
    "## Histogram of KEY1 and KEY2"
   ]
  },
  {
   "cell_type": "code",
   "execution_count": 6,
   "metadata": {},
   "outputs": [
    {
     "data": {
      "text/plain": [
       "(array([0., 0., 0., 0., 0., 0., 0., 0., 0., 0., 0., 0., 0., 0., 0., 0., 0.,\n",
       "        0., 0., 0., 0., 0., 0., 0., 0., 1., 0., 0., 0., 0., 0., 0., 0., 0.,\n",
       "        0., 0., 0., 0., 0., 0., 0., 0., 0., 0., 0., 0., 0., 0., 0., 0.]),\n",
       " array([182.99688721, 183.01688721, 183.03688721, 183.05688721,\n",
       "        183.07688721, 183.09688721, 183.11688721, 183.13688721,\n",
       "        183.15688721, 183.17688721, 183.19688721, 183.21688721,\n",
       "        183.23688721, 183.25688721, 183.27688721, 183.29688721,\n",
       "        183.31688721, 183.33688721, 183.35688721, 183.37688721,\n",
       "        183.39688721, 183.41688721, 183.43688721, 183.45688721,\n",
       "        183.47688721, 183.49688721, 183.51688721, 183.53688721,\n",
       "        183.55688721, 183.57688721, 183.59688721, 183.61688721,\n",
       "        183.63688721, 183.65688721, 183.67688721, 183.69688721,\n",
       "        183.71688721, 183.73688721, 183.75688721, 183.77688721,\n",
       "        183.79688721, 183.81688721, 183.83688721, 183.85688721,\n",
       "        183.87688721, 183.89688721, 183.91688721, 183.93688721,\n",
       "        183.95688721, 183.97688721, 183.99688721]),\n",
       " <BarContainer object of 50 artists>)"
      ]
     },
     "execution_count": 6,
     "metadata": {},
     "output_type": "execute_result"
    },
    {
     "data": {
      "image/png": "[encoded data removed]",
      "text/plain": [
       "<Figure size 1440x360 with 1 Axes>"
      ]
     },
     "metadata": {
      "needs_background": "light"
     },
     "output_type": "display_data"
    }
   ],
   "source": [
    "plt.figure(figsize=(20,5))\n",
    "plt.hist(df['KEY1'],50, facecolor='green', alpha=0.75)\n",
    "plt.hist(df['KEY2'],50, facecolor='darkblue', alpha=0.75)"
   ]
  },
  {
   "cell_type": "markdown",
   "metadata": {},
   "source": [
    "## Statistic Description"
   ]
  },
  {
   "cell_type": "code",
   "execution_count": 7,
   "metadata": {},
   "outputs": [
    {
     "name": "stdout",
     "output_type": "stream",
     "text": [
      "KEY1 mean: 94.52836608886719   std: nan\n",
      "Z3-score: 0  (0.0027)\n",
      "KEY2 mean: 183.49688720703125   std: nan\n",
      "Z3-score: 0  (0.0027)\n"
     ]
    }
   ],
   "source": [
    "mean = df['KEY1'].mean()\n",
    "std = df['KEY1'].std()\n",
    "print('KEY1 mean: {}   std: {}'.format(mean,std))\n",
    "exl_z3 = df.loc[ (df.KEY1 < mean - 3*std) | (df.KEY1 > mean + 3*std),'KEY1'].count() \n",
    "print('Z3-score: {}  ({})'.format(exl_z3,0.0027*df.shape[0]) )\n",
    "\n",
    "mean = df['KEY2'].mean()\n",
    "std = df['KEY2'].std()\n",
    "print('KEY2 mean: {}   std: {}'.format(mean,std))\n",
    "exl_z3 = df.loc[ (df.KEY2 < mean - 3*std) | (df.KEY2 > mean + 3*std),'KEY2'].count() \n",
    "print('Z3-score: {}  ({})'.format(exl_z3,0.0027*df.shape[0]) )"
   ]
  },
  {
   "cell_type": "markdown",
   "metadata": {},
   "source": [
    "# Access to Performance Data"
   ]
  },
  {
   "cell_type": "code",
   "execution_count": 12,
   "metadata": {},
   "outputs": [
    {
     "data": {
      "text/html": [
       "<div>\n",
       "<style scoped>\n",
       "    .dataframe tbody tr th:only-of-type {\n",
       "        vertical-align: middle;\n",
       "    }\n",
       "\n",
       "    .dataframe tbody tr th {\n",
       "        vertical-align: top;\n",
       "    }\n",
       "\n",
       "    .dataframe thead th {\n",
       "        text-align: right;\n",
       "    }\n",
       "</style>\n",
       "<table border=\"1\" class=\"dataframe\">\n",
       "  <thead>\n",
       "    <tr style=\"text-align: right;\">\n",
       "      <th></th>\n",
       "      <th>date</th>\n",
       "      <th>cellid</th>\n",
       "      <th>key1</th>\n",
       "      <th>key2</th>\n",
       "    </tr>\n",
       "  </thead>\n",
       "  <tbody>\n",
       "    <tr>\n",
       "      <th>0</th>\n",
       "      <td>2020-10-01</td>\n",
       "      <td>1234512</td>\n",
       "      <td>93.518670</td>\n",
       "      <td>192.967610</td>\n",
       "    </tr>\n",
       "    <tr>\n",
       "      <th>1</th>\n",
       "      <td>2020-10-01</td>\n",
       "      <td>9874382</td>\n",
       "      <td>96.409740</td>\n",
       "      <td>204.130070</td>\n",
       "    </tr>\n",
       "    <tr>\n",
       "      <th>2</th>\n",
       "      <td>2020-10-01</td>\n",
       "      <td>4139991</td>\n",
       "      <td>109.617360</td>\n",
       "      <td>159.463620</td>\n",
       "    </tr>\n",
       "    <tr>\n",
       "      <th>3</th>\n",
       "      <td>2020-10-01</td>\n",
       "      <td>4543213</td>\n",
       "      <td>77.754230</td>\n",
       "      <td>213.441250</td>\n",
       "    </tr>\n",
       "    <tr>\n",
       "      <th>4</th>\n",
       "      <td>2020-10-01</td>\n",
       "      <td>7148927</td>\n",
       "      <td>128.648270</td>\n",
       "      <td>182.209380</td>\n",
       "    </tr>\n",
       "    <tr>\n",
       "      <th>...</th>\n",
       "      <td>...</td>\n",
       "      <td>...</td>\n",
       "      <td>...</td>\n",
       "      <td>...</td>\n",
       "    </tr>\n",
       "    <tr>\n",
       "      <th>1459</th>\n",
       "      <td>2020-11-30 18:00:00</td>\n",
       "      <td>9874382</td>\n",
       "      <td>74.868564</td>\n",
       "      <td>214.953615</td>\n",
       "    </tr>\n",
       "    <tr>\n",
       "      <th>1460</th>\n",
       "      <td>2020-11-30 18:00:00</td>\n",
       "      <td>4543213</td>\n",
       "      <td>79.473573</td>\n",
       "      <td>226.626500</td>\n",
       "    </tr>\n",
       "    <tr>\n",
       "      <th>1461</th>\n",
       "      <td>2020-11-30 18:00:00</td>\n",
       "      <td>1234512</td>\n",
       "      <td>102.595990</td>\n",
       "      <td>225.254608</td>\n",
       "    </tr>\n",
       "    <tr>\n",
       "      <th>1462</th>\n",
       "      <td>2020-11-30 18:00:00</td>\n",
       "      <td>7148927</td>\n",
       "      <td>99.373949</td>\n",
       "      <td>202.540449</td>\n",
       "    </tr>\n",
       "    <tr>\n",
       "      <th>1463</th>\n",
       "      <td>2020-11-30 18:00:00</td>\n",
       "      <td>4139991</td>\n",
       "      <td>94.384951</td>\n",
       "      <td>219.519956</td>\n",
       "    </tr>\n",
       "  </tbody>\n",
       "</table>\n",
       "<p>1464 rows × 4 columns</p>\n",
       "</div>"
      ],
      "text/plain": [
       "                     date   cellid        key1        key2\n",
       "0              2020-10-01  1234512   93.518670  192.967610\n",
       "1              2020-10-01  9874382   96.409740  204.130070\n",
       "2              2020-10-01  4139991  109.617360  159.463620\n",
       "3              2020-10-01  4543213   77.754230  213.441250\n",
       "4              2020-10-01  7148927  128.648270  182.209380\n",
       "...                   ...      ...         ...         ...\n",
       "1459  2020-11-30 18:00:00  9874382   74.868564  214.953615\n",
       "1460  2020-11-30 18:00:00  4543213   79.473573  226.626500\n",
       "1461  2020-11-30 18:00:00  1234512  102.595990  225.254608\n",
       "1462  2020-11-30 18:00:00  7148927   99.373949  202.540449\n",
       "1463  2020-11-30 18:00:00  4139991   94.384951  219.519956\n",
       "\n",
       "[1464 rows x 4 columns]"
      ]
     },
     "metadata": {},
     "output_type": "display_data"
    }
   ],
   "source": [
    "client = InsecureClient('http://datalake:50070')\n",
    "with client.read('/shared/SHA/performance.csv', encoding = 'utf-8') as reader:\n",
    "    df = pd.read_csv(reader, sep=\",\",names=['date','cellid','key1','key2'])\n",
    "display(df)"
   ]
  },
  {
   "cell_type": "code",
   "execution_count": null,
   "metadata": {},
   "outputs": [],
   "source": []
  },
  {
   "cell_type": "code",
   "execution_count": null,
   "metadata": {},
   "outputs": [],
   "source": []
  }
 ],
 "metadata": {
  "createdAt": "2020-12-27T21:35:39Z",
  "createdBy": "teched2020",
  "description": "",
  "kernelspec": {
   "display_name": "Python 3",
   "language": "python",
   "name": "python3"
  },
  "language_info": {
   "codemirror_mode": {
    "name": "ipython",
    "version": 3
   },
   "file_extension": ".py",
   "mimetype": "text/x-python",
   "name": "python",
   "nbconvert_exporter": "python",
   "pygments_lexer": "ipython3",
   "version": "3.7.3"
  },
  "modifiedAt": "2020-12-27T21:35:39Z",
  "modifiedBy": "teched2020",
  "name": "qm_analysis_cellstatus.ipynb",
  "scenarioId": "6b554d57-baf4-4e41-a0c8-f5d0e77b4218"
 },
 "nbformat": 4,
 "nbformat_minor": 4
}
